{
 "cells": [
  {
   "cell_type": "code",
   "execution_count": 40,
   "metadata": {},
   "outputs": [],
   "source": [
    "import pandas as pd\n",
    "import numpy as np\n",
    "from sklearn.model_selection import train_test_split\n",
    "from feature_engine.selection import DropConstantFeatures, DropDuplicateFeatures"
   ]
  },
  {
   "cell_type": "code",
   "execution_count": 41,
   "metadata": {},
   "outputs": [],
   "source": [
    "data = pd.read_csv(\"dataset_1.csv\")"
   ]
  },
  {
   "cell_type": "code",
   "execution_count": 42,
   "metadata": {},
   "outputs": [
    {
     "data": {
      "text/plain": [
       "(50000, 301)"
      ]
     },
     "execution_count": 42,
     "metadata": {},
     "output_type": "execute_result"
    }
   ],
   "source": [
    "data.shape"
   ]
  },
  {
   "cell_type": "code",
   "execution_count": 43,
   "metadata": {},
   "outputs": [],
   "source": [
    "feature_cols = [\"var_{}\".format(i) for i in range(1, 301)]"
   ]
  },
  {
   "cell_type": "code",
   "execution_count": 44,
   "metadata": {},
   "outputs": [],
   "source": [
    "X_train, X_test, y_train, y_test = train_test_split(data[feature_cols], data[\"target\"], test_size=0.2, random_state=42)"
   ]
  },
  {
   "cell_type": "code",
   "execution_count": 45,
   "metadata": {},
   "outputs": [
    {
     "data": {
      "text/plain": [
       "DropConstantFeatures(variables=['var_1', 'var_2', 'var_3', 'var_4', 'var_5',\n",
       "                                'var_6', 'var_7', 'var_8', 'var_9', 'var_10',\n",
       "                                'var_11', 'var_12', 'var_13', 'var_14',\n",
       "                                'var_15', 'var_16', 'var_17', 'var_18',\n",
       "                                'var_19', 'var_20', 'var_21', 'var_22',\n",
       "                                'var_23', 'var_24', 'var_25', 'var_26',\n",
       "                                'var_27', 'var_28', 'var_29', 'var_30', ...])"
      ]
     },
     "execution_count": 45,
     "metadata": {},
     "output_type": "execute_result"
    }
   ],
   "source": [
    "sel = DropConstantFeatures(tol=1, variables=None, missing_values=\"raise\")\n",
    "sel.fit(X_train)"
   ]
  },
  {
   "cell_type": "code",
   "execution_count": 46,
   "metadata": {},
   "outputs": [
    {
     "data": {
      "text/plain": [
       "['var_14',\n",
       " 'var_23',\n",
       " 'var_33',\n",
       " 'var_34',\n",
       " 'var_44',\n",
       " 'var_61',\n",
       " 'var_66',\n",
       " 'var_67',\n",
       " 'var_69',\n",
       " 'var_73',\n",
       " 'var_80',\n",
       " 'var_81',\n",
       " 'var_87',\n",
       " 'var_89',\n",
       " 'var_92',\n",
       " 'var_97',\n",
       " 'var_99',\n",
       " 'var_112',\n",
       " 'var_113',\n",
       " 'var_120',\n",
       " 'var_122',\n",
       " 'var_127',\n",
       " 'var_129',\n",
       " 'var_135',\n",
       " 'var_158',\n",
       " 'var_167',\n",
       " 'var_171',\n",
       " 'var_178',\n",
       " 'var_180',\n",
       " 'var_182',\n",
       " 'var_183',\n",
       " 'var_195',\n",
       " 'var_196',\n",
       " 'var_201',\n",
       " 'var_212',\n",
       " 'var_215',\n",
       " 'var_225',\n",
       " 'var_227',\n",
       " 'var_248',\n",
       " 'var_287',\n",
       " 'var_294',\n",
       " 'var_297']"
      ]
     },
     "execution_count": 46,
     "metadata": {},
     "output_type": "execute_result"
    }
   ],
   "source": [
    "sel.features_to_drop_"
   ]
  },
  {
   "cell_type": "code",
   "execution_count": 47,
   "metadata": {},
   "outputs": [
    {
     "name": "stdout",
     "output_type": "stream",
     "text": [
      "features to remove: 42\n"
     ]
    }
   ],
   "source": [
    "print(\"features to remove: {}\".format(len(sel.features_to_drop_)))"
   ]
  },
  {
   "cell_type": "code",
   "execution_count": 48,
   "metadata": {},
   "outputs": [
    {
     "data": {
      "text/plain": [
       "array([0])"
      ]
     },
     "execution_count": 48,
     "metadata": {},
     "output_type": "execute_result"
    }
   ],
   "source": [
    "X_train[sel.features_to_drop_[0]].unique()"
   ]
  },
  {
   "cell_type": "code",
   "execution_count": 49,
   "metadata": {},
   "outputs": [
    {
     "data": {
      "text/plain": [
       "((40000, 258), (10000, 258))"
      ]
     },
     "execution_count": 49,
     "metadata": {},
     "output_type": "execute_result"
    }
   ],
   "source": [
    "X_train = sel.transform(X_train)\n",
    "X_test = sel.transform(X_test)\n",
    "\n",
    "X_train.shape, X_test.shape"
   ]
  },
  {
   "cell_type": "code",
   "execution_count": 50,
   "metadata": {},
   "outputs": [],
   "source": [
    "X_train, X_test, y_train, y_test = train_test_split(data[feature_cols], data[\"target\"], test_size=0.2, random_state=42)"
   ]
  },
  {
   "cell_type": "code",
   "execution_count": 51,
   "metadata": {},
   "outputs": [
    {
     "name": "stdout",
     "output_type": "stream",
     "text": [
      "CPU times: user 525 ms, sys: 28.1 ms, total: 554 ms\n",
      "Wall time: 554 ms\n"
     ]
    },
    {
     "data": {
      "text/plain": [
       "DropConstantFeatures(tol=0.998,\n",
       "                     variables=['var_1', 'var_2', 'var_3', 'var_4', 'var_5',\n",
       "                                'var_6', 'var_7', 'var_8', 'var_9', 'var_10',\n",
       "                                'var_11', 'var_12', 'var_13', 'var_14',\n",
       "                                'var_15', 'var_16', 'var_17', 'var_18',\n",
       "                                'var_19', 'var_20', 'var_21', 'var_22',\n",
       "                                'var_23', 'var_24', 'var_25', 'var_26',\n",
       "                                'var_27', 'var_28', 'var_29', 'var_30', ...])"
      ]
     },
     "execution_count": 51,
     "metadata": {},
     "output_type": "execute_result"
    }
   ],
   "source": [
    "%%time\n",
    "# tol: percentage of observations that contain only one value in order to consider this feature quasi-constant\n",
    "sel = DropConstantFeatures(tol=0.998, variables=None, missing_values=\"raise\")\n",
    "sel.fit(X_train)"
   ]
  },
  {
   "cell_type": "code",
   "execution_count": 52,
   "metadata": {},
   "outputs": [
    {
     "name": "stdout",
     "output_type": "stream",
     "text": [
      "features to remove: 139\n"
     ]
    }
   ],
   "source": [
    "print(\"features to remove: {}\".format(len(sel.features_to_drop_)))"
   ]
  },
  {
   "cell_type": "markdown",
   "metadata": {},
   "source": [
    "The number of features is equal in both methods (pandas and feature_engine)"
   ]
  },
  {
   "cell_type": "code",
   "execution_count": 53,
   "metadata": {},
   "outputs": [
    {
     "data": {
      "text/plain": [
       "0    0.99945\n",
       "3    0.00030\n",
       "6    0.00020\n",
       "9    0.00005\n",
       "Name: var_1, dtype: float64"
      ]
     },
     "execution_count": 53,
     "metadata": {},
     "output_type": "execute_result"
    }
   ],
   "source": [
    "X_train[sel.features_to_drop_[0]].value_counts() / X_train.shape[0]"
   ]
  },
  {
   "cell_type": "markdown",
   "metadata": {},
   "source": [
    "Here we can see that 99.94% of all observations have a value of 0"
   ]
  },
  {
   "cell_type": "code",
   "execution_count": 54,
   "metadata": {},
   "outputs": [
    {
     "data": {
      "text/plain": [
       "((40000, 161), (10000, 161))"
      ]
     },
     "execution_count": 54,
     "metadata": {},
     "output_type": "execute_result"
    }
   ],
   "source": [
    "X_train = sel.transform(X_train)\n",
    "X_test = sel.transform(X_test)\n",
    "\n",
    "X_train.shape, X_test.shape"
   ]
  },
  {
   "cell_type": "code",
   "execution_count": 55,
   "metadata": {},
   "outputs": [
    {
     "name": "stdout",
     "output_type": "stream",
     "text": [
      "CPU times: user 943 ms, sys: 20.8 ms, total: 963 ms\n",
      "Wall time: 969 ms\n"
     ]
    },
    {
     "data": {
      "text/plain": [
       "DropDuplicateFeatures(missing_values='raise',\n",
       "                      variables=['var_4', 'var_5', 'var_8', 'var_13', 'var_15',\n",
       "                                 'var_17', 'var_18', 'var_19', 'var_21',\n",
       "                                 'var_22', 'var_25', 'var_26', 'var_27',\n",
       "                                 'var_29', 'var_30', 'var_31', 'var_35',\n",
       "                                 'var_37', 'var_38', 'var_41', 'var_46',\n",
       "                                 'var_47', 'var_49', 'var_50', 'var_51',\n",
       "                                 'var_52', 'var_54', 'var_55', 'var_56',\n",
       "                                 'var_57', ...])"
      ]
     },
     "execution_count": 55,
     "metadata": {},
     "output_type": "execute_result"
    }
   ],
   "source": [
    "%%time\n",
    "sel_dup = DropDuplicateFeatures(variables=None, missing_values=\"raise\")\n",
    "sel_dup.fit(X_train)"
   ]
  },
  {
   "cell_type": "code",
   "execution_count": 56,
   "metadata": {},
   "outputs": [
    {
     "data": {
      "text/plain": [
       "6"
      ]
     },
     "execution_count": 56,
     "metadata": {},
     "output_type": "execute_result"
    }
   ],
   "source": [
    "len(sel_dup.features_to_drop_)"
   ]
  },
  {
   "cell_type": "code",
   "execution_count": 57,
   "metadata": {},
   "outputs": [
    {
     "data": {
      "text/plain": [
       "[{'var_148', 'var_37'},\n",
       " {'var_199', 'var_84'},\n",
       " {'var_143', 'var_296'},\n",
       " {'var_177', 'var_250'},\n",
       " {'var_226', 'var_232'},\n",
       " {'var_229', 'var_269'}]"
      ]
     },
     "execution_count": 57,
     "metadata": {},
     "output_type": "execute_result"
    }
   ],
   "source": [
    "sel_dup.duplicated_feature_sets_"
   ]
  },
  {
   "cell_type": "code",
   "execution_count": 58,
   "metadata": {},
   "outputs": [
    {
     "data": {
      "text/plain": [
       "((40000, 155), (10000, 155))"
      ]
     },
     "execution_count": 58,
     "metadata": {},
     "output_type": "execute_result"
    }
   ],
   "source": [
    "X_train = sel_dup.transform(X_train)\n",
    "X_test = sel_dup.transform(X_test)\n",
    "\n",
    "X_train.shape, X_test.shape"
   ]
  },
  {
   "cell_type": "markdown",
   "metadata": {},
   "source": [
    "## Use both, Duplicated and Quasi-constant features elimination\n",
    "## Sklearn Pipeline"
   ]
  },
  {
   "cell_type": "code",
   "execution_count": 59,
   "metadata": {},
   "outputs": [],
   "source": [
    "from sklearn.pipeline import Pipeline"
   ]
  },
  {
   "cell_type": "code",
   "execution_count": 62,
   "metadata": {},
   "outputs": [],
   "source": [
    "X_train, X_test, y_train, y_test = train_test_split(data[feature_cols], data[\"target\"], test_size=0.2, random_state=42)"
   ]
  },
  {
   "cell_type": "code",
   "execution_count": 64,
   "metadata": {},
   "outputs": [
    {
     "name": "stdout",
     "output_type": "stream",
     "text": [
      "CPU times: user 1.29 s, sys: 60.3 ms, total: 1.35 s\n",
      "Wall time: 1.35 s\n"
     ]
    },
    {
     "data": {
      "text/plain": [
       "Pipeline(steps=[('constant',\n",
       "                 DropConstantFeatures(tol=0.998,\n",
       "                                      variables=['var_1', 'var_2', 'var_3',\n",
       "                                                 'var_4', 'var_5', 'var_6',\n",
       "                                                 'var_7', 'var_8', 'var_9',\n",
       "                                                 'var_10', 'var_11', 'var_12',\n",
       "                                                 'var_13', 'var_14', 'var_15',\n",
       "                                                 'var_16', 'var_17', 'var_18',\n",
       "                                                 'var_19', 'var_20', 'var_21',\n",
       "                                                 'var_22', 'var_23', 'var_24',\n",
       "                                                 'var_25', 'var_26', 'var_27',\n",
       "                                                 'var_28', 'var_29', 'var_30', ...])),\n",
       "                ('duplicated',\n",
       "                 DropDuplicateFeatures(variables=['var_4', 'var_5', 'var_8',\n",
       "                                                  'var_13', 'var_15', 'var_17',\n",
       "                                                  'var_18', 'var_19', 'var_21',\n",
       "                                                  'var_22', 'var_25', 'var_26',\n",
       "                                                  'var_27', 'var_29', 'var_30',\n",
       "                                                  'var_31', 'var_35', 'var_37',\n",
       "                                                  'var_38', 'var_41', 'var_46',\n",
       "                                                  'var_47', 'var_49', 'var_50',\n",
       "                                                  'var_51', 'var_52', 'var_54',\n",
       "                                                  'var_55', 'var_56', 'var_57', ...]))])"
      ]
     },
     "execution_count": 64,
     "metadata": {},
     "output_type": "execute_result"
    }
   ],
   "source": [
    "%%time\n",
    "pipe = Pipeline([\n",
    "    (\"constant\", DropConstantFeatures(tol=0.998)),\n",
    "    (\"duplicated\", DropDuplicateFeatures())\n",
    "])\n",
    "pipe.fit(X_train)"
   ]
  },
  {
   "cell_type": "code",
   "execution_count": 65,
   "metadata": {},
   "outputs": [
    {
     "data": {
      "text/plain": [
       "((40000, 155), (10000, 155))"
      ]
     },
     "execution_count": 65,
     "metadata": {},
     "output_type": "execute_result"
    }
   ],
   "source": [
    "X_train = pipe.transform(X_train)\n",
    "X_test = pipe.transform(X_test)\n",
    "\n",
    "X_train.shape, X_test.shape"
   ]
  },
  {
   "cell_type": "code",
   "execution_count": 70,
   "metadata": {},
   "outputs": [
    {
     "data": {
      "text/plain": [
       "139"
      ]
     },
     "execution_count": 70,
     "metadata": {},
     "output_type": "execute_result"
    }
   ],
   "source": [
    "len(pipe.named_steps[\"constant\"].features_to_drop_)"
   ]
  },
  {
   "cell_type": "code",
   "execution_count": 71,
   "metadata": {},
   "outputs": [
    {
     "data": {
      "text/plain": [
       "{'var_148', 'var_199', 'var_232', 'var_250', 'var_269', 'var_296'}"
      ]
     },
     "execution_count": 71,
     "metadata": {},
     "output_type": "execute_result"
    }
   ],
   "source": [
    "pipe.named_steps[\"duplicated\"].features_to_drop_"
   ]
  },
  {
   "cell_type": "code",
   "execution_count": null,
   "metadata": {},
   "outputs": [],
   "source": []
  }
 ],
 "metadata": {
  "kernelspec": {
   "display_name": "Python 3",
   "language": "python",
   "name": "python3"
  },
  "language_info": {
   "codemirror_mode": {
    "name": "ipython",
    "version": 3
   },
   "file_extension": ".py",
   "mimetype": "text/x-python",
   "name": "python",
   "nbconvert_exporter": "python",
   "pygments_lexer": "ipython3",
   "version": "3.7.4"
  }
 },
 "nbformat": 4,
 "nbformat_minor": 4
}
